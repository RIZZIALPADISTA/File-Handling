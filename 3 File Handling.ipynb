{
 "cells": [
  {
   "cell_type": "markdown",
   "id": "13f276a2-4a94-44fb-b68f-0010272868cb",
   "metadata": {},
   "source": [
    "# File Handling"
   ]
  },
  {
   "cell_type": "code",
   "execution_count": 1,
   "id": "288cb4f3-fae1-4097-83f7-49732b537dc1",
   "metadata": {},
   "outputs": [],
   "source": [
    "f = open(\"a.txt\")"
   ]
  },
  {
   "cell_type": "code",
   "execution_count": 5,
   "id": "6b220c8d-a119-44a4-86b8-4a70f61d81ea",
   "metadata": {},
   "outputs": [
    {
     "name": "stdout",
     "output_type": "stream",
     "text": [
      "Hello World!\n",
      "Halo Dunia!\n"
     ]
    }
   ],
   "source": [
    "f = open(\"a.txt\")\n",
    "print(f.read())"
   ]
  },
  {
   "cell_type": "code",
   "execution_count": 7,
   "id": "ccbae945-b1b2-4a3e-aa02-aa25b08ea1c2",
   "metadata": {},
   "outputs": [
    {
     "data": {
      "text/plain": [
       "'Hello World!\\nHalo Dunia!'"
      ]
     },
     "execution_count": 7,
     "metadata": {},
     "output_type": "execute_result"
    }
   ],
   "source": [
    "f = open(\"a.txt\")\n",
    "x = f.read()\n",
    "x"
   ]
  },
  {
   "cell_type": "code",
   "execution_count": 8,
   "id": "e8e9db5d-2549-4206-83f5-acbc96765fbf",
   "metadata": {},
   "outputs": [
    {
     "name": "stdout",
     "output_type": "stream",
     "text": [
      "Hello World!\n",
      "Halo Dunia!\n",
      "\n"
     ]
    }
   ],
   "source": [
    "f = open(\"a.txt\")\n",
    "print(f.read())\n",
    "print(f.read()) # empty string ('')"
   ]
  },
  {
   "cell_type": "code",
   "execution_count": 10,
   "id": "b09f3392-b21c-4f8b-8823-f7c348bce30e",
   "metadata": {},
   "outputs": [
    {
     "name": "stdout",
     "output_type": "stream",
     "text": [
      "Hello\n",
      " World!\n",
      "Halo Dunia!\n"
     ]
    }
   ],
   "source": [
    "f = open(\"a.txt\")\n",
    "print(f.read(5)) # read first 5 lines\n",
    "print(f.read())  # read sisa karakter di a.txt"
   ]
  },
  {
   "cell_type": "code",
   "execution_count": 11,
   "id": "6163f798-86fd-411c-af3c-dadb2f5fdf04",
   "metadata": {},
   "outputs": [
    {
     "name": "stdout",
     "output_type": "stream",
     "text": [
      "Hello\n",
      " World!\n",
      "Halo Dunia!\n"
     ]
    }
   ],
   "source": [
    "f = open(\"a.txt\")\n",
    "print(f.read(5))\n",
    "print(f.read())\n",
    "f.close()"
   ]
  },
  {
   "cell_type": "code",
   "execution_count": 14,
   "id": "d3693764-f25f-4d37-9cdb-b552d79cd62e",
   "metadata": {},
   "outputs": [
    {
     "name": "stdout",
     "output_type": "stream",
     "text": [
      "Hello World!\n",
      "\n",
      "Halo Dunia!\n",
      "\n"
     ]
    }
   ],
   "source": [
    "f = open(\"a.txt\")\n",
    "print(f.readline())\n",
    "print(f.readline())\n",
    "print(f.readline())\n",
    "f.close()"
   ]
  },
  {
   "cell_type": "code",
   "execution_count": 16,
   "id": "13f690f1-1f35-4fe3-bd0c-511affd6afe8",
   "metadata": {},
   "outputs": [
    {
     "name": "stdout",
     "output_type": "stream",
     "text": [
      "Hello World!\n",
      "\n",
      "Halo Dunia!\n"
     ]
    }
   ],
   "source": [
    "f = open(\"a.txt\")\n",
    "for line in f:\n",
    "    print(line)\n",
    "f.close()"
   ]
  },
  {
   "cell_type": "code",
   "execution_count": 22,
   "id": "cdaae81c-f60a-4ac0-a4f8-eb1e2560d33c",
   "metadata": {},
   "outputs": [
    {
     "name": "stdout",
     "output_type": "stream",
     "text": [
      "b\"print('Hello World! A')\\n\"\n",
      "b\"print('Hello World! B')\\n\"\n",
      "b\"print('Hello World! C')\\n\"\n",
      "b\"print('Hello World! D')\\n\"\n",
      "b\"print('Hello World! E')\"\n"
     ]
    }
   ],
   "source": [
    "# open(filename, param)\n",
    "# param: \n",
    "# \"r\" - Read - Default value. Opens a file for reading, error if the file does not exist\n",
    "# \"a\" - Append - Opens a file for appending, creates the file if it does not exist\n",
    "# \"w\" - Write - Opens a file for writing, creates the file if it does not exist\n",
    "# \"x\" - Create - Creates the specified file, returns an error if the file exists\n",
    "# \"t\" - Text - Default value. Text mode\n",
    "# \"b\" - Binary - Binary mode (e.g. images)\n",
    "\n",
    "f = open(\"b.py\", \"rb\")\n",
    "for line in f:\n",
    "    print(line)\n",
    "f.close()"
   ]
  },
  {
   "cell_type": "code",
   "execution_count": 23,
   "id": "e673ecb7-014a-40f7-b249-655b6284ffe8",
   "metadata": {},
   "outputs": [
    {
     "name": "stdout",
     "output_type": "stream",
     "text": [
      "console.log('Hello World! A')\n",
      "\n",
      "console.log('Hello World! B')\n",
      "\n",
      "console.log('Hello World! C')\n",
      "\n",
      "console.log('Hello World! D')\n",
      "\n",
      "console.log('Hello World! E')\n"
     ]
    }
   ],
   "source": [
    "f = open(\"c.js\", \"rt\")\n",
    "for line in f:\n",
    "    print(line)\n",
    "f.close()"
   ]
  },
  {
   "cell_type": "code",
   "execution_count": 7,
   "id": "89f912a9-6206-405d-960c-d95c18ab5cbf",
   "metadata": {},
   "outputs": [],
   "source": [
    "# create & write file\n",
    "f = open('d.txt', \"wt\")\n",
    "f.write('Halo nama saya Nobita!')\n",
    "f.close()"
   ]
  },
  {
   "cell_type": "code",
   "execution_count": 8,
   "id": "4901ec8c-118b-405c-afcb-3d3c5f0efb54",
   "metadata": {},
   "outputs": [
    {
     "name": "stdout",
     "output_type": "stream",
     "text": [
      "Halo nama saya Nobita!\n"
     ]
    }
   ],
   "source": [
    "# read hasil write\n",
    "f = open('d.txt', \"rt\")\n",
    "for line in f:\n",
    "    print(line)\n",
    "f.close()"
   ]
  },
  {
   "cell_type": "code",
   "execution_count": 9,
   "id": "f472f7c4-7131-45ea-b6df-042f01729064",
   "metadata": {},
   "outputs": [],
   "source": [
    "# create & append file\n",
    "f = open('e.txt', \"at\")\n",
    "f.write('Halo nama saya Doraemon!')\n",
    "f.close()"
   ]
  },
  {
   "cell_type": "code",
   "execution_count": 11,
   "id": "543b364a-00d6-4da1-93db-d2c22c2bcb2b",
   "metadata": {},
   "outputs": [
    {
     "name": "stdout",
     "output_type": "stream",
     "text": [
      "Halo nama saya Doraemon!\n"
     ]
    }
   ],
   "source": [
    "# read hasil write\n",
    "f = open('e.txt', \"rt\")\n",
    "for line in f:\n",
    "    print(line)\n",
    "f.close()"
   ]
  },
  {
   "cell_type": "code",
   "execution_count": 12,
   "id": "5b74aff6-51b0-4112-b28f-6c52e73f281a",
   "metadata": {},
   "outputs": [],
   "source": [
    "# create & append file\n",
    "f = open('e.txt', \"at\")\n",
    "f.write('Halo nama saya Nobita!')\n",
    "f.close()"
   ]
  },
  {
   "cell_type": "code",
   "execution_count": 16,
   "id": "81227640-a418-45b9-90c7-2eb422f620b5",
   "metadata": {},
   "outputs": [
    {
     "name": "stdout",
     "output_type": "stream",
     "text": [
      "Halo nama saya Doraemon!Halo nama saya Nobita!\n"
     ]
    }
   ],
   "source": [
    "# read hasil write\n",
    "f = open('e.txt', \"rt\")\n",
    "for line in f:\n",
    "    print(line)\n",
    "f.close()"
   ]
  },
  {
   "cell_type": "markdown",
   "id": "80ce281a-804f-4375-83b8-7d365ecb4acd",
   "metadata": {},
   "source": [
    "# CSV"
   ]
  },
  {
   "cell_type": "code",
   "execution_count": null,
   "id": "30c01acb-b850-47ac-b72d-ea8e49856f45",
   "metadata": {},
   "outputs": [],
   "source": [
    "# csv: comma separated value"
   ]
  },
  {
   "cell_type": "code",
   "execution_count": 17,
   "id": "4531b231-e945-4857-b4c4-e5a7c5350d9f",
   "metadata": {},
   "outputs": [
    {
     "name": "stdout",
     "output_type": "stream",
     "text": [
      "nama,usia,kota\n",
      "\n",
      "Ali,22,Jakarta\n",
      "\n",
      "Budi,23,Semarang\n",
      "\n",
      "Caca,24,Sukabumi\n",
      "\n",
      "Dede,25,Jayapura\n"
     ]
    }
   ],
   "source": [
    "f = open('f.csv', \"rt\")\n",
    "for line in f:\n",
    "    print(line)\n",
    "f.close()"
   ]
  },
  {
   "cell_type": "code",
   "execution_count": 18,
   "id": "110eff47-f8fb-42de-b836-434556150725",
   "metadata": {},
   "outputs": [],
   "source": [
    "import csv"
   ]
  },
  {
   "cell_type": "code",
   "execution_count": 22,
   "id": "da47fbdd-0a55-48fe-9963-58b628b9d7ae",
   "metadata": {},
   "outputs": [
    {
     "name": "stdout",
     "output_type": "stream",
     "text": [
      "['nama', 'usia', 'kota']\n",
      "['Ali', '22', 'Jakarta']\n",
      "['Budi', '23', 'Semarang']\n",
      "['Caca', '24', 'Sukabumi']\n",
      "['Dede', '25', 'Jayapura']\n"
     ]
    }
   ],
   "source": [
    "# 1. csv.reader()\n",
    "with open('f.csv') as f:\n",
    "    data = csv.reader(f, delimiter=',')\n",
    "    for d in data:\n",
    "        print(d)"
   ]
  },
  {
   "cell_type": "code",
   "execution_count": 25,
   "id": "5bbcfc8e-a1aa-4999-a869-840e269fdb51",
   "metadata": {},
   "outputs": [
    {
     "name": "stdout",
     "output_type": "stream",
     "text": [
      "{'nama': 'Ali', 'usia': '22', 'kota': 'Jakarta'}\n",
      "{'nama': 'Budi', 'usia': '23', 'kota': 'Semarang'}\n",
      "{'nama': 'Caca', 'usia': '24', 'kota': 'Sukabumi'}\n",
      "{'nama': 'Dede', 'usia': '25', 'kota': 'Jayapura'}\n"
     ]
    }
   ],
   "source": [
    "# 2. csv.DictReader\n",
    "with open('f.csv') as f:\n",
    "    data = csv.DictReader(f, delimiter=',')\n",
    "    for d in data:\n",
    "        print(d)"
   ]
  },
  {
   "cell_type": "code",
   "execution_count": 28,
   "id": "ebc16a0c-d5e3-4e62-8535-729d8ec37131",
   "metadata": {},
   "outputs": [],
   "source": [
    "# 3. write csv.writer\n",
    "with open('g.csv', 'w') as g:\n",
    "    data = csv.writer(g, delimiter=',')\n",
    "    data.writerow(['nama', 'usia', 'kota'])  # nama kolom\n",
    "    data.writerow(['Andi', 20, 'Bandung'])\n",
    "    data.writerow(['Bella', 21, 'Sukabumi'])\n",
    "    data.writerow(['Cici', 22, 'Riau'])"
   ]
  },
  {
   "cell_type": "code",
   "execution_count": 31,
   "id": "398318ec-bd8e-4b04-8249-27d651353fa7",
   "metadata": {},
   "outputs": [],
   "source": [
    "# 4. csv.DictWriter\n",
    "with open('h.csv', 'w') as h:\n",
    "    data = csv.DictWriter(h, delimiter=',', fieldnames=['nama', 'usia', 'kota'])\n",
    "    data.writeheader()\n",
    "    data.writerow({'nama': 'Agung', 'usia': 20, 'kota': 'Padang'})\n",
    "    data.writerow({'nama': 'Bedu', 'usia': 21, 'kota': 'Depok'})"
   ]
  },
  {
   "cell_type": "code",
   "execution_count": 37,
   "id": "2b08b58c-2772-46c0-af3e-431a0d82942d",
   "metadata": {},
   "outputs": [],
   "source": [
    "data = [\n",
    "    {'nama': 'Anisa', 'usia': 20, 'kota': 'Padang'},\n",
    "    {'nama': 'Bonita', 'usia': 21, 'kota': 'Jakarta'},\n",
    "    {'nama': 'Cici', 'usia': 22, 'kota': 'Sukabumi'}\n",
    "]"
   ]
  },
  {
   "cell_type": "code",
   "execution_count": 38,
   "id": "1908eeb2-5133-474c-9a66-a9dccf73e819",
   "metadata": {},
   "outputs": [
    {
     "data": {
      "text/plain": [
       "['nama', 'usia', 'kota']"
      ]
     },
     "execution_count": 38,
     "metadata": {},
     "output_type": "execute_result"
    }
   ],
   "source": [
    "list(data[0].keys())"
   ]
  },
  {
   "cell_type": "code",
   "execution_count": 40,
   "id": "f6ca7013-b6eb-4e28-b115-6096997063b4",
   "metadata": {},
   "outputs": [],
   "source": [
    "with open('i.csv', 'w') as i:\n",
    "    file = csv.DictWriter(i, delimiter=',', fieldnames=list(data[0].keys()))\n",
    "    file.writeheader()\n",
    "    for i in data:\n",
    "        file.writerow(i)"
   ]
  },
  {
   "cell_type": "markdown",
   "id": "c3c8cd37-e5f6-4923-9b78-4f2ebf09ed4e",
   "metadata": {},
   "source": [
    "# JSON"
   ]
  },
  {
   "cell_type": "code",
   "execution_count": 43,
   "id": "22d06494-fce0-4227-b222-53a8d65e75f5",
   "metadata": {},
   "outputs": [],
   "source": [
    "# json: javascript object notation\n",
    "import json"
   ]
  },
  {
   "cell_type": "code",
   "execution_count": 44,
   "id": "322cce4b-fdb2-48ef-8586-bb31edef9e94",
   "metadata": {},
   "outputs": [],
   "source": [
    "f = open('pikachu.json', \"rt\")\n",
    "data = f.read()\n",
    "hasilParsing = json.loads(data)\n",
    "f.close()"
   ]
  },
  {
   "cell_type": "code",
   "execution_count": 46,
   "id": "c70a1d9e-bcbf-4e68-99db-ff7b9f97d64c",
   "metadata": {},
   "outputs": [
    {
     "data": {
      "text/plain": [
       "dict"
      ]
     },
     "execution_count": 46,
     "metadata": {},
     "output_type": "execute_result"
    }
   ],
   "source": [
    "type(hasilParsing)"
   ]
  },
  {
   "cell_type": "code",
   "execution_count": 47,
   "id": "afe2429d-d998-4f07-b1a3-c6289a62bd1d",
   "metadata": {},
   "outputs": [
    {
     "data": {
      "text/plain": [
       "'pikachu'"
      ]
     },
     "execution_count": 47,
     "metadata": {},
     "output_type": "execute_result"
    }
   ],
   "source": [
    "hasilParsing[\"name\"]"
   ]
  },
  {
   "cell_type": "code",
   "execution_count": 48,
   "id": "88ad8458-a6b1-4d71-8136-f415eb7ddba8",
   "metadata": {},
   "outputs": [
    {
     "data": {
      "text/plain": [
       "'https://raw.githubusercontent.com/PokeAPI/sprites/master/sprites/pokemon/25.png'"
      ]
     },
     "execution_count": 48,
     "metadata": {},
     "output_type": "execute_result"
    }
   ],
   "source": [
    "hasilParsing[\"sprites\"][\"front_default\"]"
   ]
  },
  {
   "cell_type": "code",
   "execution_count": 49,
   "id": "d8bcac0a-0f25-43f5-aed1-573f58ead739",
   "metadata": {},
   "outputs": [],
   "source": [
    "data = {\n",
    "    \"nama\": \"Ali\", \"usia\": 20\n",
    "}"
   ]
  },
  {
   "cell_type": "code",
   "execution_count": 51,
   "id": "ac1fc0b8-0bfa-404c-8e9f-b95561244422",
   "metadata": {},
   "outputs": [
    {
     "data": {
      "text/plain": [
       "'{\"nama\": \"Ali\", \"usia\": 20}'"
      ]
     },
     "execution_count": 51,
     "metadata": {},
     "output_type": "execute_result"
    }
   ],
   "source": [
    "dataInput= json.dumps(data)\n",
    "dataInput"
   ]
  },
  {
   "cell_type": "code",
   "execution_count": 52,
   "id": "a8203caf-0815-4eb5-abb8-2a0ec1e57bf8",
   "metadata": {},
   "outputs": [],
   "source": [
    "f = open('i.json', \"wt\")\n",
    "f.write(dataInput)\n",
    "f.close()"
   ]
  }
 ],
 "metadata": {
  "kernelspec": {
   "display_name": "Python 3 (ipykernel)",
   "language": "python",
   "name": "python3"
  },
  "language_info": {
   "codemirror_mode": {
    "name": "ipython",
    "version": 3
   },
   "file_extension": ".py",
   "mimetype": "text/x-python",
   "name": "python",
   "nbconvert_exporter": "python",
   "pygments_lexer": "ipython3",
   "version": "3.10.0"
  }
 },
 "nbformat": 4,
 "nbformat_minor": 5
}
